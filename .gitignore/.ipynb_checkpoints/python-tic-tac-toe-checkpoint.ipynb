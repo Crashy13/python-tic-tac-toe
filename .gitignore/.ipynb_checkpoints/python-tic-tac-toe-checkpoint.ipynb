{
 "cells": [
  {
   "cell_type": "code",
   "execution_count": null,
   "id": "562f0e43",
   "metadata": {},
   "outputs": [],
   "source": [
    "def play():\n",
    "    \n",
    "    theBoard = { '1' | '2' | '3' ,\n",
    "                -----------------,\n",
    "                 '4' | '5' | '6' ,\n",
    "                -----------------,\n",
    "                 '7' | '8' | '9' ,} "
   ]
  }
 ],
 "metadata": {
  "kernelspec": {
   "display_name": "Python 3",
   "language": "python",
   "name": "python3"
  },
  "language_info": {
   "codemirror_mode": {
    "name": "ipython",
    "version": 3
   },
   "file_extension": ".py",
   "mimetype": "text/x-python",
   "name": "python",
   "nbconvert_exporter": "python",
   "pygments_lexer": "ipython3",
   "version": "3.9.5"
  }
 },
 "nbformat": 4,
 "nbformat_minor": 5
}
