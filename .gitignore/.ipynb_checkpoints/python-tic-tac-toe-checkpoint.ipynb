{
 "cells": [
  {
   "cell_type": "code",
   "execution_count": 65,
   "id": "78a78b8c",
   "metadata": {},
   "outputs": [
    {
     "name": "stdout",
     "output_type": "stream",
     "text": [
      "1|2|3\n",
      "-+-+-\n",
      "4|5|6\n",
      "-+-+-\n",
      "7|8|9\n",
      "Where would you like to make your first move? 10\n"
     ]
    },
    {
     "ename": "KeyError",
     "evalue": "'10'",
     "output_type": "error",
     "traceback": [
      "\u001b[0;31m---------------------------------------------------------------------------\u001b[0m",
      "\u001b[0;31mKeyError\u001b[0m                                  Traceback (most recent call last)",
      "\u001b[0;32m<ipython-input-65-fdf5c77a785b>\u001b[0m in \u001b[0;36m<module>\u001b[0;34m\u001b[0m\n\u001b[1;32m     65\u001b[0m \u001b[0;34m\u001b[0m\u001b[0m\n\u001b[1;32m     66\u001b[0m \u001b[0;34m\u001b[0m\u001b[0m\n\u001b[0;32m---> 67\u001b[0;31m \u001b[0mplay\u001b[0m\u001b[0;34m(\u001b[0m\u001b[0;34m)\u001b[0m\u001b[0;34m\u001b[0m\u001b[0;34m\u001b[0m\u001b[0m\n\u001b[0m",
      "\u001b[0;32m<ipython-input-65-fdf5c77a785b>\u001b[0m in \u001b[0;36mplay\u001b[0;34m()\u001b[0m\n\u001b[1;32m     29\u001b[0m         \u001b[0mmove\u001b[0m \u001b[0;34m=\u001b[0m \u001b[0minput\u001b[0m\u001b[0;34m(\u001b[0m\u001b[0;34m'Where would you like to make your first move? '\u001b[0m\u001b[0;34m)\u001b[0m\u001b[0;34m\u001b[0m\u001b[0;34m\u001b[0m\u001b[0m\n\u001b[1;32m     30\u001b[0m \u001b[0;34m\u001b[0m\u001b[0m\n\u001b[0;32m---> 31\u001b[0;31m         \u001b[0;32mif\u001b[0m \u001b[0mboard\u001b[0m\u001b[0;34m[\u001b[0m\u001b[0mmove\u001b[0m\u001b[0;34m]\u001b[0m \u001b[0;34m==\u001b[0m \u001b[0;34m'1'\u001b[0m\u001b[0;34m:\u001b[0m\u001b[0;34m\u001b[0m\u001b[0;34m\u001b[0m\u001b[0m\n\u001b[0m\u001b[1;32m     32\u001b[0m             \u001b[0mboard\u001b[0m\u001b[0;34m[\u001b[0m\u001b[0mmove\u001b[0m\u001b[0;34m]\u001b[0m \u001b[0;34m=\u001b[0m \u001b[0mmark\u001b[0m\u001b[0;34m\u001b[0m\u001b[0;34m\u001b[0m\u001b[0m\n\u001b[1;32m     33\u001b[0m             \u001b[0mturns\u001b[0m \u001b[0;34m-=\u001b[0m \u001b[0;36m1\u001b[0m\u001b[0;34m\u001b[0m\u001b[0;34m\u001b[0m\u001b[0m\n",
      "\u001b[0;31mKeyError\u001b[0m: '10'"
     ]
    }
   ],
   "source": [
    "def play():\n",
    "    \n",
    "    board = {'1': '1', '2': '2', '3': '3',\n",
    "             '4': '4', '5': '5', '6': '6',\n",
    "             '7': '7', '8': '8', '9': '9'}\n",
    "\n",
    "    \n",
    "        \n",
    "        \n",
    "    def print_board(board):\n",
    "        print(board['1'] + '|' + board['2'] + '|' + board['3']) \n",
    "        print('-+-+-')\n",
    "        print(board['4'] + '|' + board['5'] + '|' + board['6']) \n",
    "        print('-+-+-')\n",
    "        print(board['7'] + '|' + board['8'] + '|' + board['9']) \n",
    "        \n",
    "        \n",
    "    turns = 9\n",
    "    mark = 'O'\n",
    "    \n",
    "    \n",
    "    while turns > 0:\n",
    "        if mark == 'O':\n",
    "            mark = 'X'\n",
    "        else:\n",
    "            mark = 'O'\n",
    "            \n",
    "        print_board(board)\n",
    "        move = input('Where would you like to make your first move? ')\n",
    "        if move != range(1:10):\n",
    "            print('Please select a number between 1 and 9.')\n",
    "        \n",
    "        if board[move] == '1':\n",
    "            board[move] = mark\n",
    "            turns -= 1\n",
    "        elif board[move] == '2':\n",
    "            board[move] = mark\n",
    "            turns -= 1\n",
    "        elif board[move] == '3':\n",
    "            board[move] = mark\n",
    "            turns -= 1\n",
    "        elif board[move] == '4':\n",
    "            board[move] = mark\n",
    "            turns -= 1\n",
    "        elif board[move] == '5':\n",
    "            board[move] = mark\n",
    "            turns -= 1\n",
    "        elif board[move] == '6':\n",
    "            board[move] = mark\n",
    "            turns -= 1\n",
    "        elif board[move] == '7':\n",
    "            board[move] = mark\n",
    "            turns -= 1\n",
    "        elif board[move] == '8':\n",
    "            board[move] = mark\n",
    "            turns -= 1\n",
    "        elif board[move] == '9':\n",
    "            board[move] = mark\n",
    "            turns -= 1\n",
    "        else:\n",
    "            print(\"That place is already filled.\")\n",
    "            \n",
    "    \n",
    "     \n",
    "    \n",
    "    \n",
    "    \n",
    "    \n",
    "play()"
   ]
  },
  {
   "cell_type": "code",
   "execution_count": null,
   "id": "1bacba93",
   "metadata": {},
   "outputs": [],
   "source": []
  }
 ],
 "metadata": {
  "kernelspec": {
   "display_name": "Python 3",
   "language": "python",
   "name": "python3"
  },
  "language_info": {
   "codemirror_mode": {
    "name": "ipython",
    "version": 3
   },
   "file_extension": ".py",
   "mimetype": "text/x-python",
   "name": "python",
   "nbconvert_exporter": "python",
   "pygments_lexer": "ipython3",
   "version": "3.9.5"
  }
 },
 "nbformat": 4,
 "nbformat_minor": 5
}
