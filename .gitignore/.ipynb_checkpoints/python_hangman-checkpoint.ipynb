{
 "cells": [
  {
   "cell_type": "code",
   "execution_count": 110,
   "id": "b09220b2",
   "metadata": {},
   "outputs": [
    {
     "name": "stdout",
     "output_type": "stream",
     "text": [
      "The word is 6 letters long.\n",
      "['_', '_', '_', '_', '_', '_']\n",
      "Please guess a letter: t\n",
      "The letter t is not in the word.\n",
      "Attempts remaining: 5 .\n",
      "Please guess a letter: r\n",
      "The letter r is in the word.\n",
      "['_', '_', '_', '_', '_', 'r']\n",
      "Please guess a letter: f\n",
      "The letter f is in the word.\n",
      "['f', '_', '_', '_', '_', 'r']\n",
      "Please guess a letter: o\n",
      "The letter o is in the word.\n",
      "['f', '_', 'o', '_', '_', 'r']\n",
      "Please guess a letter: e\n",
      "The letter e is in the word.\n",
      "['f', '_', 'o', '_', 'e', 'r']\n",
      "Please guess a letter: l\n",
      "The letter l is in the word.\n",
      "['f', 'l', 'o', '_', 'e', 'r']\n",
      "Please guess a letter: w\n",
      "The letter w is in the word.\n",
      "['f', 'l', 'o', 'w', 'e', 'r']\n",
      "You win!\n"
     ]
    }
   ],
   "source": [
    "\n",
    "import random\n",
    "\n",
    "def play(word):\n",
    "    def split(word):\n",
    "        return [char for char in word]\n",
    "   \n",
    "    comp_word = split(word)\n",
    "    used_letters = []\n",
    "    correct_letters = []\n",
    "    word_display = ['_']*len(comp_word)\n",
    "    counter = 6\n",
    "    print('The word is', len(word), 'letters long.')\n",
    "    print(word_display)\n",
    "\n",
    "\n",
    "    while counter > 0:\n",
    "        user_guess = input(\"Please guess a letter: \")\n",
    "        user_guess = user_guess.lower()\n",
    "        if len(user_guess) == 1 and user_guess.isalpha():\n",
    "            if user_guess in used_letters:\n",
    "                print(\"You already tried\", user_guess, \".\")\n",
    "            elif user_guess not in word:\n",
    "                print('The letter', user_guess, 'is not in the word.')\n",
    "                counter -= 1\n",
    "                print('Attempts remaining:', counter, '.')\n",
    "                used_letters.append(user_guess)\n",
    "                if counter == 0:\n",
    "                    print('You lose!')\n",
    "                    \n",
    "            else:\n",
    "                print('The letter', user_guess, 'is in the word.')\n",
    "                used_letters.append(user_guess)\n",
    "                correct_letters.append(user_guess)\n",
    "                if user_guess in comp_word:\n",
    "                    for index, char in enumerate(word):\n",
    "                        if user_guess == char:\n",
    "                            word_display[index] = user_guess\n",
    "                            print(word_display)\n",
    "                    \n",
    "                if len(correct_letters) == len(comp_word):\n",
    "                    print('You win!')\n",
    "                    break\n",
    "                        \n",
    "        elif len(user_guess) != 1:\n",
    "            print('Please choose only one letter')\n",
    "        elif user_guess != user_guess.isalpha():\n",
    "            print('Please choose a letter')\n",
    "        \n",
    "\n",
    "\n",
    "words = [\"Hornet\", \"Flower\", \"Bound\", \"Zebra\", \"Shot\", \"Panther\", \"Tiger\", \"Cobra\"]\n",
    "word = random.choice(words).lower()\n",
    "play(word)\n"
   ]
  },
  {
   "cell_type": "code",
   "execution_count": null,
   "id": "7f306aad",
   "metadata": {},
   "outputs": [],
   "source": []
  }
 ],
 "metadata": {
  "kernelspec": {
   "display_name": "Python 3",
   "language": "python",
   "name": "python3"
  },
  "language_info": {
   "codemirror_mode": {
    "name": "ipython",
    "version": 3
   },
   "file_extension": ".py",
   "mimetype": "text/x-python",
   "name": "python",
   "nbconvert_exporter": "python",
   "pygments_lexer": "ipython3",
   "version": "3.9.5"
  }
 },
 "nbformat": 4,
 "nbformat_minor": 5
}
